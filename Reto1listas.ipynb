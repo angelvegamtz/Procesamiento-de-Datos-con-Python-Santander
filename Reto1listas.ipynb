{
  "nbformat": 4,
  "nbformat_minor": 0,
  "metadata": {
    "kernelspec": {
      "display_name": "Python 3",
      "language": "python",
      "name": "python3"
    },
    "language_info": {
      "codemirror_mode": {
        "name": "ipython",
        "version": 3
      },
      "file_extension": ".py",
      "mimetype": "text/x-python",
      "name": "python",
      "nbconvert_exporter": "python",
      "pygments_lexer": "ipython3",
      "version": "3.8.3"
    },
    "colab": {
      "name": "Copia de listas.ipynb",
      "provenance": [],
      "include_colab_link": true
    }
  },
  "cells": [
    {
      "cell_type": "markdown",
      "metadata": {
        "id": "view-in-github",
        "colab_type": "text"
      },
      "source": [
        "<a href=\"https://colab.research.google.com/github/angelvegamtz/Procesamiento-de-Datos-con-Python-Santander/blob/main/Reto1listas.ipynb\" target=\"_parent\"><img src=\"https://colab.research.google.com/assets/colab-badge.svg\" alt=\"Open In Colab\"/></a>"
      ]
    },
    {
      "cell_type": "markdown",
      "metadata": {
        "id": "qgavTV_t5z0Y"
      },
      "source": [
        "## Reto 1: Creando listas y accediendo a ellas\n",
        "\n",
        "### 1. Objetivos:\n",
        "    - Practicar crear listas con valores crudos y variables\n",
        "    - Practicar acceder a listas usando índices\n",
        " \n",
        "---\n",
        "    \n",
        "### 2. Desarrollo:"
      ]
    },
    {
      "cell_type": "markdown",
      "metadata": {
        "id": "vcYXHOx15z0g"
      },
      "source": [
        "#### a) Definiendo una lista\n",
        "\n",
        "Debajo de esta celda hay un nombre de una variable que aún no ha sido asignada:"
      ]
    },
    {
      "cell_type": "code",
      "metadata": {
        "id": "9vl43lJd5z0g"
      },
      "source": [
        "mi_informacion = [\"Angel Vega Martínez\",\"Angel\",\"Burritos\",\"Rajas con crema\",\"Mecatronico\"]"
      ],
      "execution_count": null,
      "outputs": []
    },
    {
      "cell_type": "markdown",
      "metadata": {
        "id": "-xuZ18OD5z0h"
      },
      "source": [
        "Ahora, tenemos un `print` que imprime una string formateada para mostrar cierta información acerca de ti (Las triples comillas `'''` nos sirven para generar strings de varias líneas):"
      ]
    },
    {
      "cell_type": "code",
      "metadata": {
        "id": "6U86PTDq5z0h",
        "colab": {
          "base_uri": "https://localhost:8080/"
        },
        "outputId": "80075d6a-eda7-447e-e7b8-3643d772ff8d"
      },
      "source": [
        "print(f'''\n",
        "¡Hola! Mi nombre es {mi_informacion[0]}. Todos me dicen {mi_informacion[1]}.\n",
        "Mi comida favorita es {mi_informacion[2]}. Y la comida que más detesto es {mi_informacion[3]}.\n",
        "Mi trabajo ideal sería {mi_informacion[4]}.\n",
        "¡Gracias, chau!\n",
        "''')"
      ],
      "execution_count": null,
      "outputs": [
        {
          "output_type": "stream",
          "text": [
            "\n",
            "¡Hola! Mi nombre es Angel Vega Martínez. Todos me dicen Angel.\n",
            "Mi comida favorita es Burritos. Y la comida que más detesto es Rajas con crema.\n",
            "Mi trabajo ideal sería Mecatronico.\n",
            "¡Gracias, chau!\n",
            "\n"
          ],
          "name": "stdout"
        }
      ]
    },
    {
      "cell_type": "markdown",
      "metadata": {
        "id": "DGScY7sv5z0i"
      },
      "source": [
        "Para que esta string funcione, asigna una lista a la variable `mi_informacion` con toda la información necesaria para imprimir tu micro-bio debajo de la celda."
      ]
    },
    {
      "cell_type": "markdown",
      "metadata": {
        "id": "nR2rDqrJ5z0i"
      },
      "source": [
        "#### b) Una lista construida con variables \n",
        "\n",
        "Debajo de esta celda vemos los nombres de varias variables y una lista que las contiene."
      ]
    },
    {
      "cell_type": "code",
      "metadata": {
        "id": "ZUrEVl3x5z0i"
      },
      "source": [
        "info_0 = \"reptiles\"\n",
        "info_1 =  \"conquistar el mundo\"\n",
        "info_2 = \"desapareceran\"\n",
        "info_3 =  \"sobrevivir\"\n",
        "info_4 = \"alimento a mi tortuga\"\n",
        "\n",
        "info_faltante=[info_0, info_1, info_2, info_3, info_4]"
      ],
      "execution_count": null,
      "outputs": []
    },
    {
      "cell_type": "markdown",
      "metadata": {
        "id": "P19CbUp15z0j"
      },
      "source": [
        "Ahora, tenemos un `print` que imprime una pequeña historia utilizando la lista `info_faltante` que contiene a las demás variables:"
      ]
    },
    {
      "cell_type": "code",
      "metadata": {
        "id": "R3eLvUpB5z0j",
        "colab": {
          "base_uri": "https://localhost:8080/"
        },
        "outputId": "d5d515c1-9636-4dda-8133-dc07a059093e"
      },
      "source": [
        "print(f'''\n",
        "Algún día los {info_faltante[0]} lograrán su objetivo. Su objetivo de {info_faltante[1]}.\n",
        "Ese día, los humanos {info_faltante[2]} y tendrán que {info_faltante[3]}.\n",
        "Por esa razón yo todos los días {info_faltante[4]}.\n",
        "''')"
      ],
      "execution_count": null,
      "outputs": [
        {
          "output_type": "stream",
          "text": [
            "\n",
            "Algún día los reptiles lograrán su objetivo. Su objetivo de conquistar el mundo.\n",
            "Ese día, los humanos desapareceran y tendrán que sobrevivir.\n",
            "Por esa razón yo todos los días alimento a mi tortuga.\n",
            "\n"
          ],
          "name": "stdout"
        }
      ]
    },
    {
      "cell_type": "markdown",
      "metadata": {
        "id": "_boOOq4D5z0j"
      },
      "source": [
        "Tu reto será asignar las variables `info_x` con la información que desees para crear una historia a tu gusto. Cada variable puede contener una string que tenga varias palabras (frases, pues). Si te dan ganas, ¡comparte la historia con tus compañeros!"
      ]
    },
    {
      "cell_type": "markdown",
      "metadata": {
        "id": "ZWkYDjtp5z0k"
      },
      "source": [
        "#### c) Practicando el operador de indexación \n",
        "\n",
        "Debajo de esta celda hay una lista con números dentro:"
      ]
    },
    {
      "cell_type": "code",
      "metadata": {
        "id": "gsUEPEbM5z0k"
      },
      "source": [
        "respuestas = [0.58, 9, 2, 3, 37, 5, 75, 4]"
      ],
      "execution_count": null,
      "outputs": []
    },
    {
      "cell_type": "markdown",
      "metadata": {
        "id": "yqKrWA4g5z0k"
      },
      "source": [
        "Ahora, tenemos un `print` con una string interpolada. Como puedes ver todas las interpolaciones están vacías:"
      ]
    },
    {
      "cell_type": "code",
      "metadata": {
        "id": "ZZttrqt75z0k",
        "colab": {
          "base_uri": "https://localhost:8080/"
        },
        "outputId": "25759330-215e-4033-ed55-34dc19472f03"
      },
      "source": [
        "print(f'''\n",
        "1. Los humanos tenemos {respuestas[2]} ojos en la cara.\n",
        "2. Un humano adulto tiene {respuestas[4]-respuestas[5]} dientes dentro de su boca.\n",
        "3. Un feto tarda {respuestas[1]} meses en gestarse antes de nacer.\n",
        "4. La expectativa de vida en México es de alrededor de {respuestas[-2]} años.\n",
        "5. Las horas de sueño al día recomendadas para adultos jóvenes son entre {respuestas[-3]} y {respuestas[1]}.\n",
        "6. El récord actual de velocidad en 100 metros (09/05/2020) fue establecido por Usain Bolt y es de {respuestas[0]}.\n",
        "''')"
      ],
      "execution_count": null,
      "outputs": [
        {
          "output_type": "stream",
          "text": [
            "\n",
            "1. Los humanos tenemos 2 ojos en la cara.\n",
            "2. Un humano adulto tiene 32 dientes dentro de su boca.\n",
            "3. Un feto tarda 9 meses en gestarse antes de nacer.\n",
            "4. La expectativa de vida en México es de alrededor de 75 años.\n",
            "5. Las horas de sueño al día recomendadas para adultos jóvenes son entre 5 y 9.\n",
            "6. El récord actual de velocidad en 100 metros (09/05/2020) fue establecido por Usain Bolt y es de 0.58.\n",
            "\n"
          ],
          "name": "stdout"
        }
      ]
    },
    {
      "cell_type": "markdown",
      "metadata": {
        "id": "dDUaw9IT5z0l"
      },
      "source": [
        "Tu reto es llenar las interpolaciones en la string con elementos de la lista de arriba. Usa los índices de los elementos para acceder a las respuestas correctas y llenar la lista con información coherente. No todas las respuestas están en la lista. Para obtener algunas respuestas tendrás que acceder a elementos de la lista y realizar operaciones numéricas conn ellos (usando `+` o `-`).\n",
        "\n",
        "> Reto extra: Si quieres un poco más de dificultad, accede a todos los elementos usando **solamente** números negativos como índices"
      ]
    },
    {
      "cell_type": "code",
      "metadata": {
        "id": "a4Kgez5W5z0l"
      },
      "source": [
        ""
      ],
      "execution_count": null,
      "outputs": []
    }
  ]
}