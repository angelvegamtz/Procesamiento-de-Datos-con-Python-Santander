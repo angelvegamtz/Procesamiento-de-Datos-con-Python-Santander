{
  "nbformat": 4,
  "nbformat_minor": 0,
  "metadata": {
    "kernelspec": {
      "display_name": "Python (data_science)",
      "language": "python",
      "name": "data_science"
    },
    "language_info": {
      "codemirror_mode": {
        "name": "ipython",
        "version": 3
      },
      "file_extension": ".py",
      "mimetype": "text/x-python",
      "name": "python",
      "nbconvert_exporter": "python",
      "pygments_lexer": "ipython3",
      "version": "3.8.5"
    },
    "colab": {
      "name": "Copia de modificando_listas.ipynb",
      "provenance": [],
      "include_colab_link": true
    }
  },
  "cells": [
    {
      "cell_type": "markdown",
      "metadata": {
        "id": "view-in-github",
        "colab_type": "text"
      },
      "source": [
        "<a href=\"https://colab.research.google.com/github/angelvegamtz/Procesamiento-de-Datos-con-Python-Santander/blob/main/Reto2modificando_listas.ipynb\" target=\"_parent\"><img src=\"https://colab.research.google.com/assets/colab-badge.svg\" alt=\"Open In Colab\"/></a>"
      ]
    },
    {
      "cell_type": "markdown",
      "metadata": {
        "id": "oXFCh5a-9JtP"
      },
      "source": [
        "## Reto 2: Modificando listas\n",
        "\n",
        "### 1. Objetivos:\n",
        "    - Practicar el uso de los métodos `append` `pop`.\n",
        " \n",
        "---\n",
        "    \n",
        "### 2. Desarrollo:"
      ]
    },
    {
      "cell_type": "markdown",
      "metadata": {
        "id": "dzBEzvGS9JtY"
      },
      "source": [
        "#### a) Modificar para eliminar diferencias\n",
        "\n",
        "Debajo tienes dos listas definidas:"
      ]
    },
    {
      "cell_type": "code",
      "metadata": {
        "id": "NhP56-V-9Jta",
        "colab": {
          "base_uri": "https://localhost:8080/"
        },
        "outputId": "69513d93-0110-412b-8abc-51402a370f0d"
      },
      "source": [
        "lista_1 = [3.4, 0.7, 99.9, 5.41, 6.23, 7.9]\n",
        "\n",
        "lista_2 = [3.4, 63.4, 0.7, 6.46, 99.9, 2.2, 5.41]\n",
        "\n",
        "# Tu código va aquí\n",
        "lista_2.pop(1)\n",
        "lista_2.pop(2)\n",
        "lista_2.pop(3)\n",
        "lista_2.append(6.23)\n",
        "lista_2.append(7.9)\n",
        "\n",
        "\n",
        "\n",
        "print(lista_2)\n",
        "\n",
        "# ..."
      ],
      "execution_count": null,
      "outputs": [
        {
          "output_type": "stream",
          "text": [
            "[3.4, 0.7, 99.9, 5.41, 6.23, 7.9]\n"
          ],
          "name": "stdout"
        }
      ]
    },
    {
      "cell_type": "markdown",
      "metadata": {
        "id": "8W3-zjTe9Jtb"
      },
      "source": [
        "Ahora, tienes una `sentencia if` que utiliza una comparación entre las dos listas:"
      ]
    },
    {
      "cell_type": "code",
      "metadata": {
        "id": "BaWiSooS9Jtb",
        "colab": {
          "base_uri": "https://localhost:8080/"
        },
        "outputId": "e48f39a5-878c-4b63-9d69-f8e28085008b"
      },
      "source": [
        "if lista_1 == lista_2:\n",
        "    print(\"Tú y yo somos uno mismo\")"
      ],
      "execution_count": null,
      "outputs": [
        {
          "output_type": "stream",
          "text": [
            "Tú y yo somos uno mismo\n"
          ],
          "name": "stdout"
        }
      ]
    },
    {
      "cell_type": "markdown",
      "metadata": {
        "id": "WGpMM0m_9Jtb"
      },
      "source": [
        "Donde dice `tu código va aquí` agrega modificaciones a la **lista_2** para lograr que ambas listas sean idénticas y el bello mensaje \"Tú y yo somos uno mismo\" se imprima. Puedes usar tanto `pop` como `append`, pero **sólo puedes modificar la lista_2**."
      ]
    },
    {
      "cell_type": "markdown",
      "metadata": {
        "id": "sPd9mgZn9Jtc"
      },
      "source": [
        "<details><summary>Solución</summary>\n",
        "\n",
        "```python\n",
        "# El orden podría ser diferente\n",
        "    \n",
        "lista_2.pop(1)\n",
        "lista_2.pop(2)\n",
        "lista_2.pop(3)\n",
        "lista_2.append(6.23)\n",
        "lista_2.append(7.9)\n",
        "\n",
        "```\n",
        "    \n",
        "</details>"
      ]
    },
    {
      "cell_type": "markdown",
      "metadata": {
        "id": "CSRpP7e-9Jtc"
      },
      "source": [
        "#### b) Corrigiendo fragmentos\n",
        "\n",
        "Debajo hay un muy pequeño fragmento del capítulo 68 de la novela \"Rayuela\" de Julio Cortázar ([Lo puedes leer aquí](https://ciudadseva.com/texto/rayuela-capitulo-68/)). Este fragmento ha sido modificado, como fácilmente podrás ver. Además, el fragmento termina con un oración inconclusa:"
      ]
    },
    {
      "cell_type": "code",
      "metadata": {
        "id": "mc9jArTs9Jtc"
      },
      "source": [
        "fragmento_fragmentado = ['Apenas', 'él', 'le', 'amalaba', 'hidrolizado' 'el', 'noema,',\n",
        "                         'a', 'ella', 'se', 'le', 'agolpaba', 'el', 'clémiso', 'súbito',\n",
        "                         'y', 'caían', 'en', 'fermales', 'hidromurias,', 'en', 'salvajes', 'ambonios,',\n",
        "                         'en', 'sustalos', 'distales', 'exasperantes.',\n",
        "                         'Cada', 'vez', 'que', 'él', 'procuraba', 'relamar', 'las', 'incopelusas,']\n",
        "\n",
        "# Tu código va aquí\n",
        "fragmento_fragmentado.pop(4)\n",
        "fragmento_fragmentado.pop(12)\n",
        "fragmento_fragmentado.pop(15)\n",
        "fragmento_fragmentado.pop(21)\n",
        "fragmento_fragmentado.append(\"se enredaba en un grimado quejumbroso y tenía que envulsionarse de cara al nóvalo, sintiendo cómo poco a poco las arnillas se espejunaban, se iban apeltronando, reduplimiendo, hasta quedar tendido como el trimalciato de ergomanina al que se le han dejado caer unas fílulas de cariaconcia. \")"
      ],
      "execution_count": null,
      "outputs": []
    },
    {
      "cell_type": "markdown",
      "metadata": {
        "id": "EKHWKeu59Jtd"
      },
      "source": [
        "Debajo hay código que toma la lista de arriba e imprime el fragmento en forma de texto. Tu reto es eliminar todas las modificaciones que han sido hechas al texto de Cortázar usando el método `pop`. Al terminar, puedes, si así lo deseas, agregar tu propio final a la oración inconclusa usando el método `append`.\n",
        "\n",
        "El resultado será una colaboración tuya y de Cortázar:"
      ]
    },
    {
      "cell_type": "code",
      "metadata": {
        "id": "eDebrJ3Y9Jtd",
        "colab": {
          "base_uri": "https://localhost:8080/"
        },
        "outputId": "2196e5d7-4c13-4e7e-f44b-0dfc5a70aa1a"
      },
      "source": [
        "tu_nombre = \"Angel Vega Martínez\"  # Tu nombre va aquí\n",
        "\n",
        "print(f'==Colaboración póstuma de Córtazar y {tu_nombre}==\\n')\n",
        "print(f'{\" \".join(fragmento_fragmentado)}')"
      ],
      "execution_count": null,
      "outputs": [
        {
          "output_type": "stream",
          "text": [
            "==Colaboración póstuma de Córtazar y Angel Vega Martínez==\n",
            "\n",
            "Apenas él le amalaba noema, a ella se le agolpaba el clémiso y caían en hidromurias, en salvajes ambonios, en sustalos exasperantes. Cada vez que él procuraba relamar las incopelusas, se enredaba en un grimado quejumbroso y tenía que envulsionarse de cara al nóvalo, sintiendo cómo poco a poco las arnillas se espejunaban, se iban apeltronando, reduplimiendo, hasta quedar tendido como el trimalciato de ergomanina al que se le han dejado caer unas fílulas de cariaconcia. \n"
          ],
          "name": "stdout"
        }
      ]
    },
    {
      "cell_type": "markdown",
      "metadata": {
        "id": "Kss2vPXl9Jtd"
      },
      "source": [
        "<details><summary>Solución</summary>\n",
        "\n",
        "```python\n",
        "# La colaboración (lo que va en el append) podría ser distinta. En caso de que sea igual, tal vez estemos entrelazados cuánticamente. ¡Búscame!\n",
        "    \n",
        "fragmento_fragmentado.pop(4)\n",
        "fragmento_fragmentado.pop(12)\n",
        "fragmento_fragmentado.pop(15)\n",
        "fragmento_fragmentado.pop(21) \n",
        "fragmento.append(\"se dirimían en conjunto: flémalos, húmalos, y vivosos estallidos\"\n",
        "```\n",
        "    \n",
        "</details>"
      ]
    },
    {
      "cell_type": "code",
      "metadata": {
        "id": "Pnq9FMS99Jte"
      },
      "source": [
        ""
      ],
      "execution_count": null,
      "outputs": []
    }
  ]
}