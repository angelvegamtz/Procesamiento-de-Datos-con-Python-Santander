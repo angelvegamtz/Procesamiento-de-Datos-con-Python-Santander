{
  "nbformat": 4,
  "nbformat_minor": 0,
  "metadata": {
    "kernelspec": {
      "display_name": "Python 3",
      "language": "python",
      "name": "python3"
    },
    "language_info": {
      "codemirror_mode": {
        "name": "ipython",
        "version": 3
      },
      "file_extension": ".py",
      "mimetype": "text/x-python",
      "name": "python",
      "nbconvert_exporter": "python",
      "pygments_lexer": "ipython3",
      "version": "3.8.3"
    },
    "colab": {
      "name": "Copia de operadores_de_comparacion.ipynb",
      "provenance": [],
      "include_colab_link": true
    }
  },
  "cells": [
    {
      "cell_type": "markdown",
      "metadata": {
        "id": "view-in-github",
        "colab_type": "text"
      },
      "source": [
        "<a href=\"https://colab.research.google.com/github/angelvegamtz/Procesamiento-de-Datos-con-Python-Santander/blob/main/Reto4operadores_de_comparacion.ipynb\" target=\"_parent\"><img src=\"https://colab.research.google.com/assets/colab-badge.svg\" alt=\"Open In Colab\"/></a>"
      ]
    },
    {
      "cell_type": "markdown",
      "metadata": {
        "id": "ltbWBvHe4Sq9"
      },
      "source": [
        "## Reto 4: Operadores de comparación\n",
        "\n",
        "### 1. Objetivos:\n",
        "    - Practicar la comparación de números, strings y booleanos\n",
        " \n",
        "---\n",
        "    \n",
        "### 2. Desarrollo:"
      ]
    },
    {
      "cell_type": "markdown",
      "metadata": {
        "id": "Ax1dyqaS4SrF"
      },
      "source": [
        "A continuación tienes algunas variables que han sido asignadas:"
      ]
    },
    {
      "cell_type": "code",
      "metadata": {
        "id": "WYKTJRCe4SrG"
      },
      "source": [
        "var_1 = 3\n",
        "var_2 = 5\n",
        "var_3 = 9\n",
        "var_4 = 1\n",
        "var_5 = 9\n",
        "var_6 = -6\n",
        "var_7 = 5\n",
        "var_8 = 4"
      ],
      "execution_count": null,
      "outputs": []
    },
    {
      "cell_type": "markdown",
      "metadata": {
        "id": "jgeKPGeO4SrH"
      },
      "source": [
        "A continuación tienes algunas comparaciones que se encuentran incompletas, junto con el resultado que se espera de dicha comparación. Agrega los `operadores de comparación` adecuados, en medio de las variables, para que al correr las celdas se obtengan los `Resultados esperados`. Para este reto, los operadores `==` y `!=` no están permitidos."
      ]
    },
    {
      "cell_type": "code",
      "metadata": {
        "id": "gwhk7bpf4SrH",
        "colab": {
          "base_uri": "https://localhost:8080/"
        },
        "outputId": "15cea73a-0194-4b9b-fb7f-d4cc2a5ed2aa"
      },
      "source": [
        "var_1>var_3  # Resultado esperado: False"
      ],
      "execution_count": null,
      "outputs": [
        {
          "output_type": "execute_result",
          "data": {
            "text/plain": [
              "False"
            ]
          },
          "metadata": {
            "tags": []
          },
          "execution_count": 3
        }
      ]
    },
    {
      "cell_type": "code",
      "metadata": {
        "id": "4nfnkMzO4SrH",
        "colab": {
          "base_uri": "https://localhost:8080/"
        },
        "outputId": "884f2a05-757a-4355-ce50-f7cbfcee9882"
      },
      "source": [
        "var_1>var_4 # Resultado esperado: True"
      ],
      "execution_count": null,
      "outputs": [
        {
          "output_type": "execute_result",
          "data": {
            "text/plain": [
              "True"
            ]
          },
          "metadata": {
            "tags": []
          },
          "execution_count": 4
        }
      ]
    },
    {
      "cell_type": "code",
      "metadata": {
        "id": "fQfA-UUW4SrI",
        "colab": {
          "base_uri": "https://localhost:8080/"
        },
        "outputId": "85541a84-1d0d-492b-a6e2-ba5a39a2fc80"
      },
      "source": [
        "var_2<=var_7  # Resultado esperado: True"
      ],
      "execution_count": null,
      "outputs": [
        {
          "output_type": "execute_result",
          "data": {
            "text/plain": [
              "True"
            ]
          },
          "metadata": {
            "tags": []
          },
          "execution_count": 8
        }
      ]
    },
    {
      "cell_type": "code",
      "metadata": {
        "id": "yTYk7tcr4SrI",
        "colab": {
          "base_uri": "https://localhost:8080/"
        },
        "outputId": "472e3777-84ca-4491-feef-8ead67c620fd"
      },
      "source": [
        "var_8>var_6  # Resultado esperado: True"
      ],
      "execution_count": null,
      "outputs": [
        {
          "output_type": "execute_result",
          "data": {
            "text/plain": [
              "True"
            ]
          },
          "metadata": {
            "tags": []
          },
          "execution_count": 9
        }
      ]
    },
    {
      "cell_type": "code",
      "metadata": {
        "id": "AfUQG9SE4SrI",
        "colab": {
          "base_uri": "https://localhost:8080/"
        },
        "outputId": "ecb991ed-5190-4e3d-80d7-01682b56f895"
      },
      "source": [
        "var_3>var_5  # Resultado esperado: False"
      ],
      "execution_count": null,
      "outputs": [
        {
          "output_type": "execute_result",
          "data": {
            "text/plain": [
              "False"
            ]
          },
          "metadata": {
            "tags": []
          },
          "execution_count": 10
        }
      ]
    },
    {
      "cell_type": "code",
      "metadata": {
        "id": "ak8im2k_4SrJ",
        "colab": {
          "base_uri": "https://localhost:8080/"
        },
        "outputId": "e6df8518-16eb-43b3-955d-13c23df611a2"
      },
      "source": [
        "var_1<var_3  # Resultado esperado: True"
      ],
      "execution_count": null,
      "outputs": [
        {
          "output_type": "execute_result",
          "data": {
            "text/plain": [
              "True"
            ]
          },
          "metadata": {
            "tags": []
          },
          "execution_count": 11
        }
      ]
    },
    {
      "cell_type": "code",
      "metadata": {
        "id": "nrsipJ8F4SrJ",
        "colab": {
          "base_uri": "https://localhost:8080/"
        },
        "outputId": "c0385fca-0ba0-4fde-c0b9-250b789d7ac7"
      },
      "source": [
        "var_5<var_4  # Resultado esperado: False"
      ],
      "execution_count": null,
      "outputs": [
        {
          "output_type": "execute_result",
          "data": {
            "text/plain": [
              "False"
            ]
          },
          "metadata": {
            "tags": []
          },
          "execution_count": 13
        }
      ]
    },
    {
      "cell_type": "code",
      "metadata": {
        "id": "L8cpVr7b4SrJ",
        "colab": {
          "base_uri": "https://localhost:8080/"
        },
        "outputId": "bc1911a0-646c-4efc-bda1-ee2f6d8a7734"
      },
      "source": [
        "var_3>=var_5  # Resultado esperado: True"
      ],
      "execution_count": null,
      "outputs": [
        {
          "output_type": "execute_result",
          "data": {
            "text/plain": [
              "True"
            ]
          },
          "metadata": {
            "tags": []
          },
          "execution_count": 17
        }
      ]
    },
    {
      "cell_type": "code",
      "metadata": {
        "id": "5vkNlrxo4SrK"
      },
      "source": [
        ""
      ],
      "execution_count": null,
      "outputs": []
    }
  ]
}