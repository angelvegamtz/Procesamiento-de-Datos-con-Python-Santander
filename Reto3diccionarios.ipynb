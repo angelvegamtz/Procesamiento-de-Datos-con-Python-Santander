{
  "nbformat": 4,
  "nbformat_minor": 0,
  "metadata": {
    "kernelspec": {
      "display_name": "Python (data_science)",
      "language": "python",
      "name": "data_science"
    },
    "language_info": {
      "codemirror_mode": {
        "name": "ipython",
        "version": 3
      },
      "file_extension": ".py",
      "mimetype": "text/x-python",
      "name": "python",
      "nbconvert_exporter": "python",
      "pygments_lexer": "ipython3",
      "version": "3.8.5"
    },
    "colab": {
      "name": "Copia de diccionarios.ipynb",
      "provenance": [],
      "include_colab_link": true
    }
  },
  "cells": [
    {
      "cell_type": "markdown",
      "metadata": {
        "id": "view-in-github",
        "colab_type": "text"
      },
      "source": [
        "<a href=\"https://colab.research.google.com/github/angelvegamtz/Procesamiento-de-Datos-con-Python-Santander/blob/main/Reto3diccionarios.ipynb\" target=\"_parent\"><img src=\"https://colab.research.google.com/assets/colab-badge.svg\" alt=\"Open In Colab\"/></a>"
      ]
    },
    {
      "cell_type": "markdown",
      "metadata": {
        "id": "vPD9d1TRBtHz"
      },
      "source": [
        "## Reto 3: Creando y accesando diccionarios\n",
        "\n",
        "### 1. Objetivos:\n",
        "    - Entender cómo crear diccionarios y cómo acceder a ellos\n",
        " \n",
        "---\n",
        "    \n",
        "### 2. Desarrollo:"
      ]
    },
    {
      "cell_type": "markdown",
      "metadata": {
        "id": "-LLAW0qiBtH6"
      },
      "source": [
        "Debajo hemos definido un diccionario. Este diccionario se encuentra incompleto, aunque no lo parezca:"
      ]
    },
    {
      "cell_type": "code",
      "metadata": {
        "id": "xqV5mPQ1BtH7"
      },
      "source": [
        "ventas_mensuales = {\n",
        "    \"fecha_de_corte\": \"01/05/2020\",\n",
        "    \"unidad\": \"Aragón\",\n",
        "    \"ventas_pasteleria\":1000,\n",
        "    \"ventas_panaderia\":2000,\n",
        "    \"ganancias_pasteleria\":10000,\n",
        "    \"ganancias_panaderia\":20000,\n",
        "    \"gastos_mensuales_totales\":100,\n",
        "    \"analista\":\"Angel\"\n",
        "    # Tu código va aquí\n",
        "    #...\n",
        "}"
      ],
      "execution_count": null,
      "outputs": []
    },
    {
      "cell_type": "markdown",
      "metadata": {
        "id": "4cd6uDxMBtH8"
      },
      "source": [
        "Debajo tenemos algunos procedimientos que han sido realizados utilizando este diccionario. Como puedes ver, algunos de los accesos que se están haciendo van a fallar porque el diccionario `ventas_mensuales` no está completo:"
      ]
    },
    {
      "cell_type": "code",
      "metadata": {
        "id": "aGLozkX5BtH8",
        "colab": {
          "base_uri": "https://localhost:8080/"
        },
        "outputId": "8dff68cd-91bb-4a46-e179-f3e6337550a5"
      },
      "source": [
        "ventas_totales_de_insumos = ventas_mensuales[\"ventas_pasteleria\"] + ventas_mensuales[\"ventas_panaderia\"]\n",
        "ganancias_totales = ventas_mensuales[\"ganancias_pasteleria\"] + ventas_mensuales[\"ganancias_panaderia\"]\n",
        "ganancias_netas = ganancias_totales - ventas_mensuales[\"gastos_mensuales_totales\"]\n",
        "\n",
        "print(f'==Resumen de ventas mensuales de la unidad {ventas_mensuales[\"unidad\"]}==/n')\n",
        "print(f'Fecha de corte: {ventas_mensuales[\"fecha_de_corte\"]}/n')\n",
        "print(f'  - Ventas totales de insumos: {ventas_totales_de_insumos}')\n",
        "print(f'  - Ganancias totales: {ganancias_totales}')\n",
        "print(f'  - Ganancias netas: {ganancias_netas}')\n",
        "print(f'\\n')\n",
        "print(f'(Información recabada por: {ventas_mensuales[\"analista\"]})')"
      ],
      "execution_count": null,
      "outputs": [
        {
          "output_type": "stream",
          "text": [
            "==Resumen de ventas mensuales de la unidad Aragón==/n\n",
            "Fecha de corte: 01/05/2020/n\n",
            "  - Ventas totales de insumos: 3000\n",
            "  - Ganancias totales: 30000\n",
            "  - Ganancias netas: 29900\n",
            "\n",
            "\n",
            "(Información recabada por: Angel)\n"
          ],
          "name": "stdout"
        }
      ]
    },
    {
      "cell_type": "markdown",
      "metadata": {
        "id": "LtJ7VieQBtH9"
      },
      "source": [
        "Completa el diccionario `ventas_mensuales` para que el código que imprime el resumen de las ventas funcione correctamente."
      ]
    },
    {
      "cell_type": "markdown",
      "metadata": {
        "id": "prh7Cy7vBtH9"
      },
      "source": [
        "<details><summary>Solución</summary>\n",
        "\n",
        "```python\n",
        "# Los valores podrían ser distintos. Espero...\n",
        "    \n",
        "ventas_mensuales = {\n",
        "    \"fecha_de_corte\": \"01/05/2020\",\n",
        "    \"unidad\": \"Aragón\",\n",
        "    \"ventas_pasteleria\": 245,\n",
        "    \"ventas_panaderia\": 123,\n",
        "    \"ganancias_pasteleria\": 20345,\n",
        "    \"ganancias_panaderia\": 5689,\n",
        "    \"gastos_mensuales_totales\": 7345,\n",
        "    \"analista\": \"Fernando Alameda\"\n",
        "}\n",
        "```\n",
        "    \n",
        "</details>"
      ]
    },
    {
      "cell_type": "code",
      "metadata": {
        "id": "hnekyFVPBtH9"
      },
      "source": [
        ""
      ],
      "execution_count": null,
      "outputs": []
    }
  ]
}