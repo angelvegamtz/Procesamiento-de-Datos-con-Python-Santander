{
  "nbformat": 4,
  "nbformat_minor": 0,
  "metadata": {
    "kernelspec": {
      "display_name": "Python 3",
      "language": "python",
      "name": "python3"
    },
    "language_info": {
      "codemirror_mode": {
        "name": "ipython",
        "version": 3
      },
      "file_extension": ".py",
      "mimetype": "text/x-python",
      "name": "python",
      "nbconvert_exporter": "python",
      "pygments_lexer": "ipython3",
      "version": "3.8.3"
    },
    "colab": {
      "name": "Copia de estructuras_de_control_de_flujo.ipynb",
      "provenance": [],
      "include_colab_link": true
    }
  },
  "cells": [
    {
      "cell_type": "markdown",
      "metadata": {
        "id": "view-in-github",
        "colab_type": "text"
      },
      "source": [
        "<a href=\"https://colab.research.google.com/github/angelvegamtz/Procesamiento-de-Datos-con-Python-Santander/blob/main/Reto5control_de_flujo.ipynb\" target=\"_parent\"><img src=\"https://colab.research.google.com/assets/colab-badge.svg\" alt=\"Open In Colab\"/></a>"
      ]
    },
    {
      "cell_type": "markdown",
      "metadata": {
        "id": "IFPaHUUy7COe"
      },
      "source": [
        "## Reto 5: Estructuras de control de flujo\n",
        "\n",
        "### 1. Objetivos:\n",
        "    - Entender el funcionamiento de las estructuras de control de flujo a través de un reto\n",
        " \n",
        "---\n",
        "    \n",
        "### 2. Desarrollo:"
      ]
    },
    {
      "cell_type": "markdown",
      "metadata": {
        "id": "yl6tOlpD7COm"
      },
      "source": [
        "#### 1. Comparaciones numéricas\n",
        "\n",
        "Vamos a imaginar que estamos analizando un conjunto de datos que contiene las ventas anuales en pesos de unos vendedores que trabajan en nuestra empresa. Obtenemos el total de ventas anuales en pesos y lo tenemos asignado a la variable `ventas_anuales_totales`. Escribe una estructura de control que nos diga de cuánto va a ser el bono de nuestro empleado.\n",
        "\n",
        "Si las ventas son mayores a `$`1,000,000 el bono será de 20% del sueldo; si son entre `$`700,000 y `$`1,000,000 el bono será de 15% del sueldo; entre `$`400,000 y `$`700,000 el bono será de 10% del sueldo; entre `$`100,00 y 400,000 el bono será de 5% del sueldo; y debajo de `$`100,000 el bono será del 1% del sueldo.\n",
        "\n",
        "Escribe tu estructura de control y, por ahora (más adelante tendremos más herramientas para hacer esto más interesante) imprime una string que diga de cuánto va a ser el bono.\n",
        "\n",
        "> Reto opcional: Agrega una variable `sueldo` que sea el sueldo de tu empleado y agrégale el porcentaje de bono a esa variable dependiendo de la condición que se cumpla. Después hasta el final imprime una string interpolada que diga algo como \"Felicidades, tu sueldo es x; tu bono es de x; y el total de sueldo con el bono incluido es de x\". ¡Para que esto funcione también debes de agregar una variable donde guardes la cantidad del bono!"
      ]
    },
    {
      "cell_type": "code",
      "metadata": {
        "colab": {
          "base_uri": "https://localhost:8080/"
        },
        "id": "AKC_P5lA7COn",
        "outputId": "aa5a8532-1cca-468f-ed68-486c600a17a9"
      },
      "source": [
        "ventas_anuales_totales = 1000000 # Este valor lo puedes cambiar para obtener diferentes resultados\n",
        "sueldo = 100\n",
        "if ventas_anuales_totales>1000000:\n",
        "  print(\"El bono será de 20% del sueldo\")\n",
        "  print(f\"Felicidades, tu sueldo es {sueldo}; tu bono es de {sueldo*0.2}; y el total de sueldo con el bono incluido es de {sueldo*1.2}\")\n",
        "elif ventas_anuales_totales>700000 and ventas_anuales_totales<=1000000 :\n",
        "  print(\"El bono será de 15% del sueldo\")\n",
        "  print(f\"Felicidades, tu sueldo es {sueldo}; tu bono es de {sueldo*0.15}; y el total de sueldo con el bono incluido es de {sueldo*1.15}\")\n",
        "elif ventas_anuales_totales>400000 and ventas_anuales_totales<=700000:\n",
        "  print(\"El bono será de 10% del sueldo\")\n",
        "  print(f\"Felicidades, tu sueldo es {sueldo}; tu bono es de {sueldo*0.1}; y el total de sueldo con el bono incluido es de {sueldo*1.1}\")\n",
        "elif ventas_anuales_totales>=100000 and ventas_anuales_totales<=400000:\n",
        "  print(\"El bono será de 5% del sueldo\")\n",
        "  print(f\"Felicidades, tu sueldo es {sueldo}; tu bono es de {sueldo*0.05}; y el total de sueldo con el bono incluido es de {sueldo*1.05}\")\n",
        "elif ventas_anuales_totales<100000:\n",
        "  print(\"El bono será de 1% del sueldo\")\n",
        "  print(f\"Felicidades, tu sueldo es {sueldo}; tu bono es de {sueldo*0.01}; y el total de sueldo con el bono incluido es de {sueldo*1.01}\")\n",
        "\n"
      ],
      "execution_count": null,
      "outputs": [
        {
          "output_type": "stream",
          "text": [
            "El bono será de 15% del sueldo\n",
            "Felicidades, tu sueldo es 100; tu bono es de 15.0; y el total de sueldo con el bono incluido es de 114.99999999999999\n"
          ],
          "name": "stdout"
        }
      ]
    },
    {
      "cell_type": "code",
      "metadata": {
        "id": "y7-rnSKE7COo"
      },
      "source": [
        "# Escribe aquí tu código\n"
      ],
      "execution_count": null,
      "outputs": []
    },
    {
      "cell_type": "code",
      "metadata": {
        "id": "kOgGI2kV7COo"
      },
      "source": [
        ""
      ],
      "execution_count": null,
      "outputs": []
    }
  ]
}