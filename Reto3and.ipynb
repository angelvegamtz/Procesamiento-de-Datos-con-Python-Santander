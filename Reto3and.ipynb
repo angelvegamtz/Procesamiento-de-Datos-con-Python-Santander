{
  "nbformat": 4,
  "nbformat_minor": 0,
  "metadata": {
    "kernelspec": {
      "display_name": "Python (data_science)",
      "language": "python",
      "name": "data_science"
    },
    "language_info": {
      "codemirror_mode": {
        "name": "ipython",
        "version": 3
      },
      "file_extension": ".py",
      "mimetype": "text/x-python",
      "name": "python",
      "nbconvert_exporter": "python",
      "pygments_lexer": "ipython3",
      "version": "3.8.5"
    },
    "colab": {
      "name": "Copia de and.ipynb",
      "provenance": [],
      "include_colab_link": true
    }
  },
  "cells": [
    {
      "cell_type": "markdown",
      "metadata": {
        "id": "view-in-github",
        "colab_type": "text"
      },
      "source": [
        "<a href=\"https://colab.research.google.com/github/angelvegamtz/Procesamiento-de-Datos-con-Python-Santander/blob/main/Reto3and.ipynb\" target=\"_parent\"><img src=\"https://colab.research.google.com/assets/colab-badge.svg\" alt=\"Open In Colab\"/></a>"
      ]
    },
    {
      "cell_type": "markdown",
      "metadata": {
        "id": "BKTGOacBx2r5"
      },
      "source": [
        "## Reto 3: And\n",
        "\n",
        "### 1. Objetivos:\n",
        "    - Practicar el operador `and` y usarlo para realizar filtros más complejos\n",
        " \n",
        "---\n",
        "    \n",
        "### 2. Desarrollo:"
      ]
    },
    {
      "cell_type": "markdown",
      "metadata": {
        "id": "26CT2DKFx2sA"
      },
      "source": [
        "#### a) Filtrando valores atípicos en ambos extremos.\n",
        "\n",
        "Regresemos a nuestro ejemplo de EyePoker Inc. Esta vez tenemos un nuevo conjunto de datos con más empleados (la industria de picadores de ojos va en aumento vertiginoso). Además incluye los sueldos de algunos internos. Estos sueldos son muy bajos (simbólicos, podríamos llamarlos), como puedes ver:"
      ]
    },
    {
      "cell_type": "code",
      "metadata": {
        "id": "Usqg09hwx2sB"
      },
      "source": [
        "sueldos = [26, 32, 26, 1.5, 30, 30, 1, 2, 32, 28, 30, 28, 30, 28, 27, 30, 110, 1.5, 2, 34, 30, 28, 26, 28, 2, 30, 28, 85, 25, 1.5,\n",
        "           1.5, 30, 34, 34, 30, 30, 120, 28, 2, 2, 1.5, 28, 120, 1, 1.5, 125, 2, 1.5, 28, 29, 30, 34, 33, 28, 2, 1, 1.5, 26, 28,\n",
        "          26, 26, 30, 30, 28, 2, 2, 1.5, 2, 1.5, 28, 27, 130, 1.5, 2, 26, 26, 28, 30, 30, 30, 28, 28, 1, 1, 135, 1, 1, 1.5, 2,\n",
        "          2, 2, 1.5, 2]"
      ],
      "execution_count": null,
      "outputs": []
    },
    {
      "cell_type": "markdown",
      "metadata": {
        "id": "QT-MplVTx2sC"
      },
      "source": [
        "En realidad a nosotros sólo nos interesa analizar los sueldos de los empleados que tiene la empresa a largo plazo. Como tenemos bastantes internos, es muy probable que la inclusión de estos sueldos vaya a distorsionar nuestro cálculo del sueldo `típico` en la empresa:"
      ]
    },
    {
      "cell_type": "code",
      "metadata": {
        "id": "KBUbhjjsx2sC",
        "colab": {
          "base_uri": "https://localhost:8080/"
        },
        "outputId": "19fb89fc-7328-474a-86b5-1da433fca63b"
      },
      "source": [
        "print(f'El sueldo \"típico\" en EyePoker Inc. es de {sum(sueldos) / len(sueldos)}')"
      ],
      "execution_count": null,
      "outputs": [
        {
          "output_type": "stream",
          "text": [
            "El sueldo \"típico\" en EyePoker Inc. es de 25.36021505376344\n"
          ],
          "name": "stdout"
        }
      ]
    },
    {
      "cell_type": "markdown",
      "metadata": {
        "id": "mAPGGSSxx2sC"
      },
      "source": [
        "Para evitar esta distorsión y calcular solamente el sueldo `típico` de los empleados que están contratados a largo plazo, vamos a filtrar nuestra lista.\n",
        "\n",
        "Lo que tienes que hacer es lo siguiente:\n",
        "\n",
        "1. Define una función que regrese `True` cuando el argumento sea mayor que 20.\n",
        "2. Define una función que regrese `True` cuando el argumento sea menor que 40.\n",
        "3. Define una tercera función que una las dos primeras funciones usando un operador `and`.\n",
        "4. Filtrar la lista y asignarla a `sueldos_filtrados`."
      ]
    },
    {
      "cell_type": "code",
      "metadata": {
        "id": "97uyk4f3x2sD"
      },
      "source": [
        "def mayor_a_20(sueldo):\n",
        "  if sueldo<20:\n",
        "    return False\n",
        "  else: \n",
        "    return True\n"
      ],
      "execution_count": null,
      "outputs": []
    },
    {
      "cell_type": "code",
      "metadata": {
        "id": "Qq729df9x2sD"
      },
      "source": [
        "def menor_a_40(sueldo):\n",
        "  if sueldo>40:\n",
        "    return False\n",
        "  else: \n",
        "    return True"
      ],
      "execution_count": null,
      "outputs": []
    },
    {
      "cell_type": "code",
      "metadata": {
        "id": "IzdUEtr_x2sD"
      },
      "source": [
        "def and_de_40_y_20(sueldo):\n",
        "      return  mayor_a_20(sueldo) and menor_a_40(sueldo)\n"
      ],
      "execution_count": null,
      "outputs": []
    },
    {
      "cell_type": "code",
      "metadata": {
        "id": "bRsOUiyBx2sE"
      },
      "source": [
        "sueldos_filtrados =list(filter(and_de_40_y_20,sueldos))"
      ],
      "execution_count": null,
      "outputs": []
    },
    {
      "cell_type": "code",
      "metadata": {
        "id": "mNhkmqKvx2sE",
        "colab": {
          "base_uri": "https://localhost:8080/"
        },
        "outputId": "11c57295-bffd-468b-d04a-93566bfb2267"
      },
      "source": [
        "print(f'El sueldo \"típico\" en EyePoker Inc. es de {sum(sueldos_filtrados) / len(sueldos_filtrados)}')"
      ],
      "execution_count": null,
      "outputs": [
        {
          "output_type": "stream",
          "text": [
            "El sueldo \"típico\" en EyePoker Inc. es de 28.96078431372549\n"
          ],
          "name": "stdout"
        }
      ]
    },
    {
      "cell_type": "markdown",
      "metadata": {
        "id": "L4qIvKlBx2sE"
      },
      "source": [
        "<details><summary>Solución</summary>\n",
        "\n",
        "```python\n",
        "def numero_es_mayor_que_20(numero):\n",
        "    \n",
        "    if numero > 20:\n",
        "        return True\n",
        "    \n",
        "def numero_es_menor_que_40(numero):\n",
        "    \n",
        "    if numero < 40:\n",
        "        return True\n",
        "            \n",
        "def numero_es_mayor_que_20_y_menor_que_40(numero):\n",
        "    \n",
        "    return numero_es_mayor_que_20(numero) and numero_es_menor_que_40(numero)\n",
        "                \n",
        "sueldos_filtrados = list(filter(numero_es_mayor_que_20_y_menor_que_40, sueldos))\n",
        "```\n",
        "    \n",
        "</details>"
      ]
    },
    {
      "cell_type": "code",
      "metadata": {
        "id": "k-u249QXx2sF"
      },
      "source": [
        ""
      ],
      "execution_count": null,
      "outputs": []
    }
  ]
}